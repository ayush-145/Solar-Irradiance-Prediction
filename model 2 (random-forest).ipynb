{
 "cells": [
  {
   "cell_type": "code",
   "execution_count": 1,
   "id": "1665b85b-0601-4822-a95f-59d2f16a2eb8",
   "metadata": {},
   "outputs": [],
   "source": [
    "import numpy as np\n",
    "import pandas as pd\n",
    "from sklearn.model_selection import train_test_split, cross_validate, KFold\n",
    "from sklearn.ensemble import RandomForestRegressor\n",
    "from sklearn.preprocessing import StandardScaler\n",
    "from sklearn.metrics import mean_squared_error\n",
    "from sklearn.metrics._scorer import _SCORERS\n",
    "from xgboost import XGBRegressor,XGBClassifier\n",
    "import optuna\n",
    "import matplotlib.pyplot as plt\n",
    "import seaborn as sns\n",
    "import lightgbm as lgb\n",
    "from catboost import CatBoostRegressor\n",
    "import pickle\n",
    "import warnings\n",
    "warnings.filterwarnings('ignore')\n",
    "%matplotlib inline"
   ]
  },
  {
   "cell_type": "code",
   "execution_count": 2,
   "id": "a8f00776-60ab-407a-83f6-2f29841a76cc",
   "metadata": {},
   "outputs": [],
   "source": [
    "#data prep\n",
    "trainset = pd.read_csv(\"data/train.csv\")\n",
    "testset = pd.read_csv(\"data/test.csv\")\n",
    "\n",
    "test = testset.drop(['Clearsky DHI', 'Clearsky DNI', 'Clearsky GHI'],axis = 1)\n",
    "\n",
    "Y_cols = trainset.loc[:, ['Clearsky DHI', 'Clearsky DNI', 'Clearsky GHI']]\n",
    "trainset = trainset.drop(['Clearsky DHI', 'Clearsky DNI', 'Clearsky GHI'], axis = 1)\n",
    "\n",
    "train_dhi = Y_cols['Clearsky DHI']\n",
    "train_dni = Y_cols['Clearsky DNI']\n",
    "train_ghi = Y_cols['Clearsky GHI']"
   ]
  },
  {
   "cell_type": "code",
   "execution_count": 3,
   "id": "3de37ab6-c1c0-453e-b0ea-19a6620b49c7",
   "metadata": {},
   "outputs": [
    {
     "data": {
      "text/plain": [
       "Year                    int64\n",
       "Month                   int64\n",
       "Day                     int64\n",
       "Hour                    int64\n",
       "Minute                  int64\n",
       "Cloud Type              int64\n",
       "Dew Point             float64\n",
       "Temperature           float64\n",
       "Pressure                int64\n",
       "Relative Humidity     float64\n",
       "Solar Zenith Angle    float64\n",
       "Precipitable Water    float64\n",
       "Wind Direction        float64\n",
       "Wind Speed            float64\n",
       "Fill Flag               int64\n",
       "dtype: object"
      ]
     },
     "execution_count": 3,
     "metadata": {},
     "output_type": "execute_result"
    }
   ],
   "source": [
    "trainset.dtypes"
   ]
  },
  {
   "cell_type": "code",
   "execution_count": 4,
   "id": "a7e116e3-465c-4b05-b1b8-2d6d2af21216",
   "metadata": {},
   "outputs": [
    {
     "data": {
      "text/plain": [
       "dtype('int64')"
      ]
     },
     "execution_count": 4,
     "metadata": {},
     "output_type": "execute_result"
    }
   ],
   "source": [
    "train_dhi.dtypes"
   ]
  },
  {
   "cell_type": "code",
   "execution_count": 5,
   "id": "b61dda3f-fbcf-4220-a289-fcc8055d02de",
   "metadata": {},
   "outputs": [],
   "source": [
    "class Train:\n",
    "    def __init__(self, data, target, save_name):\n",
    "        super().__init__()\n",
    "        self.data = data\n",
    "        self.target = target\n",
    "        self.save_name = save_name\n",
    "\n",
    "    def train_loop(self):\n",
    "        kf = KFold(shuffle = True, random_state = 42)\n",
    "        best_loss = 1e18\n",
    "        oof_preds = pd.DataFrame(columns = ['tar'], index = trainset.index)\n",
    "\n",
    "        model = RandomForestRegressor(n_estimators = 100, random_state = 0)\n",
    "        print(\"Training starts...\")\n",
    "        for fold, (train_idx, test_idx) in enumerate(kf.split(self.data, self.target)):\n",
    "            xt = trainset.iloc[train_idx, :]\n",
    "            yt = train_dhi.iloc[train_idx]\n",
    "            xv = trainset.iloc[test_idx, :]\n",
    "            yv = train_dhi.iloc[test_idx]\n",
    "            model.fit(xt, yt)\n",
    "            pred = model.predict(xv)\n",
    "            loss = mean_squared_error(yv, pred)\n",
    "\n",
    "            oof_preds.loc[test_idx,'tar'] = pred #properly keeping oof preditcions according to test idx\n",
    "            \n",
    "            filename = self.save_name+\".json\"\n",
    "            if(loss<best_loss):\n",
    "#                 model.save_model(self.save_name+\".json\")\n",
    "                pickle.dump(model, open(filename, \"wb\"))\n",
    "                best_loss = loss\n",
    "            print(\"fold_\",fold,\" done !\")\n",
    "        \n",
    "        return oof_preds"
   ]
  },
  {
   "cell_type": "code",
   "execution_count": 6,
   "id": "cdf82a13-2cc5-473d-88fb-06a3a6db786a",
   "metadata": {},
   "outputs": [
    {
     "name": "stdout",
     "output_type": "stream",
     "text": [
      "Training starts...\n",
      "fold_ 0  done !\n",
      "fold_ 1  done !\n",
      "fold_ 2  done !\n",
      "fold_ 3  done !\n",
      "fold_ 4  done !\n"
     ]
    }
   ],
   "source": [
    "train = Train(trainset, train_dhi, 'model_DHI_1')\n",
    "pred_df = train.train_loop()\n",
    "\n",
    "trainset['Clearsky DHI']  = pred_df['tar']\n",
    "convert_dict = {\"Clearsky DHI\":float}\n",
    "trainset = trainset.astype(convert_dict)\n",
    "\n",
    "pred_df.to_csv(\"oof_pred_DHI_1.csv\",index=False)"
   ]
  },
  {
   "cell_type": "code",
   "execution_count": 7,
   "id": "97d2b1c2-5140-4ed5-959c-4333c371a055",
   "metadata": {},
   "outputs": [
    {
     "data": {
      "text/html": [
       "<div>\n",
       "<style scoped>\n",
       "    .dataframe tbody tr th:only-of-type {\n",
       "        vertical-align: middle;\n",
       "    }\n",
       "\n",
       "    .dataframe tbody tr th {\n",
       "        vertical-align: top;\n",
       "    }\n",
       "\n",
       "    .dataframe thead th {\n",
       "        text-align: right;\n",
       "    }\n",
       "</style>\n",
       "<table border=\"1\" class=\"dataframe\">\n",
       "  <thead>\n",
       "    <tr style=\"text-align: right;\">\n",
       "      <th></th>\n",
       "      <th>Year</th>\n",
       "      <th>Month</th>\n",
       "      <th>Day</th>\n",
       "      <th>Hour</th>\n",
       "      <th>Minute</th>\n",
       "      <th>Cloud Type</th>\n",
       "      <th>Dew Point</th>\n",
       "      <th>Temperature</th>\n",
       "      <th>Pressure</th>\n",
       "      <th>Relative Humidity</th>\n",
       "      <th>Solar Zenith Angle</th>\n",
       "      <th>Precipitable Water</th>\n",
       "      <th>Wind Direction</th>\n",
       "      <th>Wind Speed</th>\n",
       "      <th>Fill Flag</th>\n",
       "      <th>Clearsky DHI</th>\n",
       "    </tr>\n",
       "  </thead>\n",
       "  <tbody>\n",
       "    <tr>\n",
       "      <th>0</th>\n",
       "      <td>2009</td>\n",
       "      <td>1</td>\n",
       "      <td>1</td>\n",
       "      <td>0</td>\n",
       "      <td>0</td>\n",
       "      <td>0</td>\n",
       "      <td>0.0</td>\n",
       "      <td>5.0</td>\n",
       "      <td>1010</td>\n",
       "      <td>75.34</td>\n",
       "      <td>106.15</td>\n",
       "      <td>0.499</td>\n",
       "      <td>346.1</td>\n",
       "      <td>3.1</td>\n",
       "      <td>0</td>\n",
       "      <td>0.0</td>\n",
       "    </tr>\n",
       "    <tr>\n",
       "      <th>1</th>\n",
       "      <td>2009</td>\n",
       "      <td>1</td>\n",
       "      <td>1</td>\n",
       "      <td>0</td>\n",
       "      <td>30</td>\n",
       "      <td>0</td>\n",
       "      <td>1.0</td>\n",
       "      <td>5.0</td>\n",
       "      <td>1010</td>\n",
       "      <td>80.81</td>\n",
       "      <td>112.28</td>\n",
       "      <td>0.490</td>\n",
       "      <td>346.1</td>\n",
       "      <td>3.1</td>\n",
       "      <td>0</td>\n",
       "      <td>0.0</td>\n",
       "    </tr>\n",
       "    <tr>\n",
       "      <th>2</th>\n",
       "      <td>2009</td>\n",
       "      <td>1</td>\n",
       "      <td>1</td>\n",
       "      <td>1</td>\n",
       "      <td>0</td>\n",
       "      <td>4</td>\n",
       "      <td>0.0</td>\n",
       "      <td>5.0</td>\n",
       "      <td>1010</td>\n",
       "      <td>78.27</td>\n",
       "      <td>118.50</td>\n",
       "      <td>0.482</td>\n",
       "      <td>347.9</td>\n",
       "      <td>3.2</td>\n",
       "      <td>0</td>\n",
       "      <td>0.0</td>\n",
       "    </tr>\n",
       "    <tr>\n",
       "      <th>3</th>\n",
       "      <td>2009</td>\n",
       "      <td>1</td>\n",
       "      <td>1</td>\n",
       "      <td>1</td>\n",
       "      <td>30</td>\n",
       "      <td>4</td>\n",
       "      <td>0.0</td>\n",
       "      <td>4.0</td>\n",
       "      <td>1010</td>\n",
       "      <td>78.27</td>\n",
       "      <td>124.78</td>\n",
       "      <td>0.478</td>\n",
       "      <td>347.9</td>\n",
       "      <td>3.1</td>\n",
       "      <td>0</td>\n",
       "      <td>0.0</td>\n",
       "    </tr>\n",
       "    <tr>\n",
       "      <th>4</th>\n",
       "      <td>2009</td>\n",
       "      <td>1</td>\n",
       "      <td>1</td>\n",
       "      <td>2</td>\n",
       "      <td>0</td>\n",
       "      <td>4</td>\n",
       "      <td>0.0</td>\n",
       "      <td>4.0</td>\n",
       "      <td>1010</td>\n",
       "      <td>76.45</td>\n",
       "      <td>131.12</td>\n",
       "      <td>0.475</td>\n",
       "      <td>350.0</td>\n",
       "      <td>3.0</td>\n",
       "      <td>0</td>\n",
       "      <td>0.0</td>\n",
       "    </tr>\n",
       "  </tbody>\n",
       "</table>\n",
       "</div>"
      ],
      "text/plain": [
       "   Year  Month  Day  Hour  Minute  Cloud Type  Dew Point  Temperature  \\\n",
       "0  2009      1    1     0       0           0        0.0          5.0   \n",
       "1  2009      1    1     0      30           0        1.0          5.0   \n",
       "2  2009      1    1     1       0           4        0.0          5.0   \n",
       "3  2009      1    1     1      30           4        0.0          4.0   \n",
       "4  2009      1    1     2       0           4        0.0          4.0   \n",
       "\n",
       "   Pressure  Relative Humidity  Solar Zenith Angle  Precipitable Water  \\\n",
       "0      1010              75.34              106.15               0.499   \n",
       "1      1010              80.81              112.28               0.490   \n",
       "2      1010              78.27              118.50               0.482   \n",
       "3      1010              78.27              124.78               0.478   \n",
       "4      1010              76.45              131.12               0.475   \n",
       "\n",
       "   Wind Direction  Wind Speed  Fill Flag  Clearsky DHI  \n",
       "0           346.1         3.1          0           0.0  \n",
       "1           346.1         3.1          0           0.0  \n",
       "2           347.9         3.2          0           0.0  \n",
       "3           347.9         3.1          0           0.0  \n",
       "4           350.0         3.0          0           0.0  "
      ]
     },
     "execution_count": 7,
     "metadata": {},
     "output_type": "execute_result"
    }
   ],
   "source": [
    "trainset.head()"
   ]
  },
  {
   "cell_type": "code",
   "execution_count": 8,
   "id": "af1aaf99-73eb-46ca-8ef0-a135e48b572b",
   "metadata": {},
   "outputs": [
    {
     "name": "stdout",
     "output_type": "stream",
     "text": [
      "<class 'pandas.core.frame.DataFrame'>\n",
      "RangeIndex: 175296 entries, 0 to 175295\n",
      "Data columns (total 16 columns):\n",
      " #   Column              Non-Null Count   Dtype  \n",
      "---  ------              --------------   -----  \n",
      " 0   Year                175296 non-null  int64  \n",
      " 1   Month               175296 non-null  int64  \n",
      " 2   Day                 175296 non-null  int64  \n",
      " 3   Hour                175296 non-null  int64  \n",
      " 4   Minute              175296 non-null  int64  \n",
      " 5   Cloud Type          175296 non-null  int64  \n",
      " 6   Dew Point           175296 non-null  float64\n",
      " 7   Temperature         175296 non-null  float64\n",
      " 8   Pressure            175296 non-null  int64  \n",
      " 9   Relative Humidity   175296 non-null  float64\n",
      " 10  Solar Zenith Angle  175296 non-null  float64\n",
      " 11  Precipitable Water  175296 non-null  float64\n",
      " 12  Wind Direction      175296 non-null  float64\n",
      " 13  Wind Speed          175296 non-null  float64\n",
      " 14  Fill Flag           175296 non-null  int64  \n",
      " 15  Clearsky DHI        175296 non-null  float64\n",
      "dtypes: float64(8), int64(8)\n",
      "memory usage: 21.4 MB\n"
     ]
    }
   ],
   "source": [
    "trainset.info()"
   ]
  },
  {
   "cell_type": "code",
   "execution_count": 9,
   "id": "59a0775c-1e11-47e5-a404-82d522161b21",
   "metadata": {},
   "outputs": [
    {
     "name": "stdout",
     "output_type": "stream",
     "text": [
      "Training starts...\n",
      "fold_ 0  done !\n",
      "fold_ 1  done !\n",
      "fold_ 2  done !\n",
      "fold_ 3  done !\n",
      "fold_ 4  done !\n"
     ]
    }
   ],
   "source": [
    "### trainset -> R+DHI\n",
    "train = Train(trainset, train_ghi, 'model_GHI_1')\n",
    "pred_df = train.train_loop()\n",
    "\n",
    "trainset['Clearsky GHI']  = pred_df['tar']\n",
    "convert_dict = {\"Clearsky GHI\":float}\n",
    "trainset = trainset.astype(convert_dict)\n",
    "\n",
    "pred_df.to_csv(\"oof_pred_GHI_1.csv\",index=False)"
   ]
  },
  {
   "cell_type": "code",
   "execution_count": 10,
   "id": "3be41663-b834-4965-88c0-064f33844bbd",
   "metadata": {},
   "outputs": [
    {
     "data": {
      "text/html": [
       "<div>\n",
       "<style scoped>\n",
       "    .dataframe tbody tr th:only-of-type {\n",
       "        vertical-align: middle;\n",
       "    }\n",
       "\n",
       "    .dataframe tbody tr th {\n",
       "        vertical-align: top;\n",
       "    }\n",
       "\n",
       "    .dataframe thead th {\n",
       "        text-align: right;\n",
       "    }\n",
       "</style>\n",
       "<table border=\"1\" class=\"dataframe\">\n",
       "  <thead>\n",
       "    <tr style=\"text-align: right;\">\n",
       "      <th></th>\n",
       "      <th>Year</th>\n",
       "      <th>Month</th>\n",
       "      <th>Day</th>\n",
       "      <th>Hour</th>\n",
       "      <th>Minute</th>\n",
       "      <th>Cloud Type</th>\n",
       "      <th>Dew Point</th>\n",
       "      <th>Temperature</th>\n",
       "      <th>Pressure</th>\n",
       "      <th>Relative Humidity</th>\n",
       "      <th>Solar Zenith Angle</th>\n",
       "      <th>Precipitable Water</th>\n",
       "      <th>Wind Direction</th>\n",
       "      <th>Wind Speed</th>\n",
       "      <th>Fill Flag</th>\n",
       "      <th>Clearsky DHI</th>\n",
       "      <th>Clearsky GHI</th>\n",
       "    </tr>\n",
       "  </thead>\n",
       "  <tbody>\n",
       "    <tr>\n",
       "      <th>0</th>\n",
       "      <td>2009</td>\n",
       "      <td>1</td>\n",
       "      <td>1</td>\n",
       "      <td>0</td>\n",
       "      <td>0</td>\n",
       "      <td>0</td>\n",
       "      <td>0.0</td>\n",
       "      <td>5.0</td>\n",
       "      <td>1010</td>\n",
       "      <td>75.34</td>\n",
       "      <td>106.15</td>\n",
       "      <td>0.499</td>\n",
       "      <td>346.1</td>\n",
       "      <td>3.1</td>\n",
       "      <td>0</td>\n",
       "      <td>0.0</td>\n",
       "      <td>0.0</td>\n",
       "    </tr>\n",
       "    <tr>\n",
       "      <th>1</th>\n",
       "      <td>2009</td>\n",
       "      <td>1</td>\n",
       "      <td>1</td>\n",
       "      <td>0</td>\n",
       "      <td>30</td>\n",
       "      <td>0</td>\n",
       "      <td>1.0</td>\n",
       "      <td>5.0</td>\n",
       "      <td>1010</td>\n",
       "      <td>80.81</td>\n",
       "      <td>112.28</td>\n",
       "      <td>0.490</td>\n",
       "      <td>346.1</td>\n",
       "      <td>3.1</td>\n",
       "      <td>0</td>\n",
       "      <td>0.0</td>\n",
       "      <td>0.0</td>\n",
       "    </tr>\n",
       "    <tr>\n",
       "      <th>2</th>\n",
       "      <td>2009</td>\n",
       "      <td>1</td>\n",
       "      <td>1</td>\n",
       "      <td>1</td>\n",
       "      <td>0</td>\n",
       "      <td>4</td>\n",
       "      <td>0.0</td>\n",
       "      <td>5.0</td>\n",
       "      <td>1010</td>\n",
       "      <td>78.27</td>\n",
       "      <td>118.50</td>\n",
       "      <td>0.482</td>\n",
       "      <td>347.9</td>\n",
       "      <td>3.2</td>\n",
       "      <td>0</td>\n",
       "      <td>0.0</td>\n",
       "      <td>0.0</td>\n",
       "    </tr>\n",
       "    <tr>\n",
       "      <th>3</th>\n",
       "      <td>2009</td>\n",
       "      <td>1</td>\n",
       "      <td>1</td>\n",
       "      <td>1</td>\n",
       "      <td>30</td>\n",
       "      <td>4</td>\n",
       "      <td>0.0</td>\n",
       "      <td>4.0</td>\n",
       "      <td>1010</td>\n",
       "      <td>78.27</td>\n",
       "      <td>124.78</td>\n",
       "      <td>0.478</td>\n",
       "      <td>347.9</td>\n",
       "      <td>3.1</td>\n",
       "      <td>0</td>\n",
       "      <td>0.0</td>\n",
       "      <td>0.0</td>\n",
       "    </tr>\n",
       "    <tr>\n",
       "      <th>4</th>\n",
       "      <td>2009</td>\n",
       "      <td>1</td>\n",
       "      <td>1</td>\n",
       "      <td>2</td>\n",
       "      <td>0</td>\n",
       "      <td>4</td>\n",
       "      <td>0.0</td>\n",
       "      <td>4.0</td>\n",
       "      <td>1010</td>\n",
       "      <td>76.45</td>\n",
       "      <td>131.12</td>\n",
       "      <td>0.475</td>\n",
       "      <td>350.0</td>\n",
       "      <td>3.0</td>\n",
       "      <td>0</td>\n",
       "      <td>0.0</td>\n",
       "      <td>0.0</td>\n",
       "    </tr>\n",
       "  </tbody>\n",
       "</table>\n",
       "</div>"
      ],
      "text/plain": [
       "   Year  Month  Day  Hour  Minute  Cloud Type  Dew Point  Temperature  \\\n",
       "0  2009      1    1     0       0           0        0.0          5.0   \n",
       "1  2009      1    1     0      30           0        1.0          5.0   \n",
       "2  2009      1    1     1       0           4        0.0          5.0   \n",
       "3  2009      1    1     1      30           4        0.0          4.0   \n",
       "4  2009      1    1     2       0           4        0.0          4.0   \n",
       "\n",
       "   Pressure  Relative Humidity  Solar Zenith Angle  Precipitable Water  \\\n",
       "0      1010              75.34              106.15               0.499   \n",
       "1      1010              80.81              112.28               0.490   \n",
       "2      1010              78.27              118.50               0.482   \n",
       "3      1010              78.27              124.78               0.478   \n",
       "4      1010              76.45              131.12               0.475   \n",
       "\n",
       "   Wind Direction  Wind Speed  Fill Flag  Clearsky DHI  Clearsky GHI  \n",
       "0           346.1         3.1          0           0.0           0.0  \n",
       "1           346.1         3.1          0           0.0           0.0  \n",
       "2           347.9         3.2          0           0.0           0.0  \n",
       "3           347.9         3.1          0           0.0           0.0  \n",
       "4           350.0         3.0          0           0.0           0.0  "
      ]
     },
     "execution_count": 10,
     "metadata": {},
     "output_type": "execute_result"
    }
   ],
   "source": [
    "trainset.head()"
   ]
  },
  {
   "cell_type": "code",
   "execution_count": 11,
   "id": "9d1527a6-0d64-4103-b054-160d926f467b",
   "metadata": {},
   "outputs": [
    {
     "name": "stdout",
     "output_type": "stream",
     "text": [
      "Training starts...\n",
      "fold_ 0  done !\n",
      "fold_ 1  done !\n",
      "fold_ 2  done !\n",
      "fold_ 3  done !\n",
      "fold_ 4  done !\n"
     ]
    }
   ],
   "source": [
    "### trainset -> R+DHI+GHI\n",
    "train = Train(trainset, train_dni, 'model_DNI_1')\n",
    "pred_df = train.train_loop()\n",
    "\n",
    "trainset['Clearsky DNI']  = pred_df['tar']\n",
    "convert_dict = {\"Clearsky DNI\":float}\n",
    "trainset = trainset.astype(convert_dict)\n",
    "\n",
    "pred_df.to_csv(\"oof_pred_DNI_1.csv\",index=False)"
   ]
  },
  {
   "cell_type": "code",
   "execution_count": 12,
   "id": "30b1057f-53e0-4bd1-b91a-0fc4e2f2bff6",
   "metadata": {},
   "outputs": [
    {
     "name": "stdout",
     "output_type": "stream",
     "text": [
      "Training starts...\n",
      "fold_ 0  done !\n",
      "fold_ 1  done !\n",
      "fold_ 2  done !\n",
      "fold_ 3  done !\n",
      "fold_ 4  done !\n"
     ]
    }
   ],
   "source": [
    "trainset = trainset.drop(['Clearsky DHI'], axis = 1)\n",
    "### trainset -> R+GHI+DNI\n",
    "train = Train(trainset, train_dhi, 'model_DHI_2')\n",
    "pred_df = train.train_loop()\n",
    "\n",
    "trainset['Clearsky DHI']  = pred_df['tar']\n",
    "convert_dict = {\"Clearsky DHI\":float}\n",
    "trainset = trainset.astype(convert_dict)\n",
    "\n",
    "pred_df.to_csv(\"oof_pred_DHI_2.csv\",index=False)"
   ]
  },
  {
   "cell_type": "code",
   "execution_count": 13,
   "id": "31e78b19-39f5-478e-b7b8-52d298ac0058",
   "metadata": {},
   "outputs": [
    {
     "name": "stdout",
     "output_type": "stream",
     "text": [
      "Training starts...\n",
      "fold_ 0  done !\n",
      "fold_ 1  done !\n",
      "fold_ 2  done !\n",
      "fold_ 3  done !\n",
      "fold_ 4  done !\n"
     ]
    }
   ],
   "source": [
    "trainset = trainset.drop(['Clearsky GHI'], axis = 1)\n",
    "### trainset -> R+DHI+DNI\n",
    "train = Train(trainset, train_ghi, 'model_GHI_2')\n",
    "pred_df = train.train_loop()\n",
    "\n",
    "trainset['Clearsky GHI']  = pred_df['tar']\n",
    "convert_dict = {\"Clearsky GHI\":float}\n",
    "trainset = trainset.astype(convert_dict)\n",
    "\n",
    "pred_df.to_csv(\"oof_pred_GHI_2.csv\",index=False)"
   ]
  },
  {
   "cell_type": "code",
   "execution_count": 14,
   "id": "a1754a17-c1e6-44f8-92de-43cf2681397f",
   "metadata": {},
   "outputs": [
    {
     "name": "stdout",
     "output_type": "stream",
     "text": [
      "Training starts...\n",
      "fold_ 0  done !\n",
      "fold_ 1  done !\n",
      "fold_ 2  done !\n",
      "fold_ 3  done !\n",
      "fold_ 4  done !\n"
     ]
    }
   ],
   "source": [
    "trainset = trainset.drop(['Clearsky DNI'], axis = 1)\n",
    "### trainset -> R+DHI+GHI\n",
    "train = Train(trainset, train_dni, 'model_DNI_2')\n",
    "pred_df = train.train_loop()\n",
    "\n",
    "trainset['Clearsky DNI']  = pred_df['tar']\n",
    "convert_dict = {\"Clearsky DNI\":float}\n",
    "trainset = trainset.astype(convert_dict)\n",
    "\n",
    "pred_df.to_csv(\"oof_pred_DNI_2.csv\",index=False)"
   ]
  },
  {
   "cell_type": "code",
   "execution_count": 15,
   "id": "cf31deba-eafc-48a9-a7e1-dcbace4c1035",
   "metadata": {},
   "outputs": [
    {
     "name": "stdout",
     "output_type": "stream",
     "text": [
      "Training starts...\n",
      "fold_ 0  done !\n",
      "fold_ 1  done !\n",
      "fold_ 2  done !\n",
      "fold_ 3  done !\n",
      "fold_ 4  done !\n"
     ]
    }
   ],
   "source": [
    "trainset = trainset.drop(['Clearsky DHI'], axis = 1)\n",
    "### trainset -> R+GHI+DNI\n",
    "train = Train(trainset, train_dhi, 'model_DHI_3')\n",
    "pred_df = train.train_loop()\n",
    "\n",
    "trainset['Clearsky DHI']  = pred_df['tar']\n",
    "convert_dict = {\"Clearsky DHI\":float}\n",
    "trainset = trainset.astype(convert_dict)\n",
    "\n",
    "pred_df.to_csv(\"oof_pred_DHI_3.csv\",index=False)"
   ]
  },
  {
   "cell_type": "code",
   "execution_count": 16,
   "id": "d97d72a7-4519-41f3-9313-aeb73cb14630",
   "metadata": {},
   "outputs": [
    {
     "name": "stdout",
     "output_type": "stream",
     "text": [
      "Training starts...\n",
      "fold_ 0  done !\n",
      "fold_ 1  done !\n",
      "fold_ 2  done !\n",
      "fold_ 3  done !\n",
      "fold_ 4  done !\n"
     ]
    }
   ],
   "source": [
    "trainset = trainset.drop(['Clearsky GHI'], axis = 1)\n",
    "### trainset -> R+DHI+DNI\n",
    "train = Train(trainset, train_ghi, 'model_GHI_3')\n",
    "pred_df = train.train_loop()\n",
    "\n",
    "trainset['Clearsky GHI']  = pred_df['tar']\n",
    "convert_dict = {\"Clearsky GHI\":float}\n",
    "trainset = trainset.astype(convert_dict)\n",
    "\n",
    "pred_df.to_csv(\"oof_pred_GHI_3.csv\",index=False)"
   ]
  },
  {
   "cell_type": "code",
   "execution_count": 17,
   "id": "ac6f81a1-7340-4b11-85cc-59743730bd57",
   "metadata": {},
   "outputs": [
    {
     "name": "stdout",
     "output_type": "stream",
     "text": [
      "Training starts...\n",
      "fold_ 0  done !\n",
      "fold_ 1  done !\n",
      "fold_ 2  done !\n",
      "fold_ 3  done !\n",
      "fold_ 4  done !\n"
     ]
    }
   ],
   "source": [
    "trainset = trainset.drop(['Clearsky DNI'], axis = 1)\n",
    "### trainset -> R+DHI+GHI\n",
    "train = Train(trainset, train_dni, 'model_DNI_3')\n",
    "pred_df = train.train_loop()\n",
    "\n",
    "trainset['Clearsky DNI']  = pred_df['tar']\n",
    "convert_dict = {\"Clearsky DNI\":float}\n",
    "trainset = trainset.astype(convert_dict)\n",
    "\n",
    "pred_df.to_csv(\"oof_pred_DNI_3.csv\",index=False)"
   ]
  }
 ],
 "metadata": {
  "kernelspec": {
   "display_name": "Python 3 (ipykernel)",
   "language": "python",
   "name": "python3"
  },
  "language_info": {
   "codemirror_mode": {
    "name": "ipython",
    "version": 3
   },
   "file_extension": ".py",
   "mimetype": "text/x-python",
   "name": "python",
   "nbconvert_exporter": "python",
   "pygments_lexer": "ipython3",
   "version": "3.11.9"
  }
 },
 "nbformat": 4,
 "nbformat_minor": 5
}
